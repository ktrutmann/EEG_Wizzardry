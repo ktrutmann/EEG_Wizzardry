{
 "cells": [
  {
   "cell_type": "markdown",
   "source": [
    "# Finding the LRP signal with mne_pipeline\n",
    "\n",
    "The `mne_pipeline` class contains a collection of helper and wrapper methods\n",
    "for functions for the `mne` module.\n",
    "Here we will take a look at how you would go about finding the\n",
    "[lateralized readiness potential (LRP)](https://en.wikipedia.org/wiki/Lateralized_readiness_potential)\n",
    "signal using the `mne_pipeline` class.\n",
    "\n",
    "The data we will be using stems from an experiment where a participant had to choose\n",
    "between two options of dividing money up between themselves and another anonymous\n",
    "participant (i.e. a forced-choice version of the\n",
    "[dictator game](https://en.wikipedia.org/wiki/Dictator_game)) by pressing a button\n",
    "with their left index finger for the left option and with their right index finger\n",
    "for the right option.\n",
    "We therefore expect to see an LRP build up before either of the buttons is pressed.\n",
    "\n",
    "First we will have to import the modules we need.\n",
    "Make sure `mne_pipeline.py` is within the same directory of the script or\n",
    "otherwise provide the relative path during the import."
   ],
   "metadata": {
    "collapsed": false,
    "pycharm": {
     "name": "#%% md\n"
    }
   }
  },
  {
   "cell_type": "code",
   "execution_count": 3,
   "metadata": {
    "collapsed": true
   },
   "outputs": [],
   "source": [
    "# TODO: Check which imports are really needed\n",
    "import os\n",
    "import mne\n",
    "import pandas as pd\n",
    "import numpy as np\n",
    "import mne_pipeline"
   ]
  },
  {
   "cell_type": "markdown",
   "source": [
    "We now import the data of a participant.\n",
    "In a proper analysis script this might be done in a loop over all participants so that you can\n",
    "deal with them one by one."
   ],
   "metadata": {
    "collapsed": false,
    "pycharm": {
     "name": "#%% md\n"
    }
   }
  },
  {
   "cell_type": "code",
   "source": [
    "triggers = {'Masked': 2, 'Reveal': 4, 'Left_choice': 8, 'Right_choice': 16, 'No_choice': 32}\n",
    "\n",
    "eeg_prep = mne_pipeline.EEGPrep(\n",
    "    eeg_path=os.path.join('Data', 'raw', 'kevin_raw.fif'),\n",
    "    trigger_dict=triggers,\n",
    "    participant_identifier='test_participant')"
   ],
   "metadata": {
    "collapsed": false,
    "pycharm": {
     "name": "#%%\n"
    }
   },
   "execution_count": null,
   "outputs": []
  },
  {
   "cell_type": "markdown",
   "source": [
    "As you can see, the object `eeg_prep` is an instance of the EEGPrep class.\n",
    "To initialize it we give it the path to our EEG file (which can be either in .bdf or .fif format),\n",
    "the trigger dictionary and an identifier for the participant (which can also be a number).\n",
    "The trigger dictionary contains the labels of the triggers as keys and the corresponding\n",
    "value of the trigger channel as values. In this case `'masked'` means that at that time\n",
    "the stimulus was presented but the numbers were not visible yet.\n",
    "At this time the trigger channel (called `Status` or `Stim`) takes on the value of 2.\n",
    "\n",
    "Now we have our `eeg_prep` object which has a bunch of attributes\n",
    "(for example the raw data itself or the `participant_id` we just gave it) and methods.\n",
    "The methods can either have a return value so that it will be used as\n",
    "`new_value = eeg_prep.some_method()` or it can operate on the attributes within the object\n",
    " (again, for example the raw data) directly.\n",
    "\n",
    " The next two methods we are going to apply do exactly that.\n",
    " The `fix_channels` method removes the superfluous `1-` at the start of the channel names\n",
    " and sets the montage, which is what tells `mne` where on the head each electrode was attached.\n",
    " Then `set_references` automatically rereferences your signal to the average of the\n",
    " mastoid reference electrodes (the ones behind the ear) and creates new channels\n",
    " from the bipolar electrodes like ones capturing eye and hand movement."
   ],
   "metadata": {
    "collapsed": false,
    "pycharm": {
     "name": "#%% md\n"
    }
   }
  },
  {
   "cell_type": "code",
   "execution_count": null,
   "outputs": [],
   "source": [
    "eeg_prep.fix_channels(n_ext_channels=9,\n",
    "                      ext_ch_mapping=None)\n",
    "\n",
    "eeg_prep.set_references(bipolar_dict=dict(eye_horizontal=['PO10', 'FT10'],\n",
    "                                          eye_vertical=['HeRe', 'FT10'],\n",
    "                                          right_hand=['HeLi', 'VeDo'],\n",
    "                                          left_hand=['VeUp', 'EMG1a']))"
   ],
   "metadata": {
    "collapsed": false,
    "pycharm": {
     "name": "#%%\n"
    }
   }
  },
  {
   "cell_type": "markdown",
   "source": [
    "As you can see, `fix_channels` also gives you the option to set the number of extra channels\n",
    "(i.e. everything that is not included in the 64 electrode setup) and lets you provide your own\n",
    "type mapping for those extra channels if desired (see the documentation in the code for details).\n",
    "\n",
    "`set_references` takes a dictionary for the bipolar electrodes called `bipolar_dict`.\n",
    "Here the keys will be used as the channel names for the newly generated channels and the\n",
    "values should be a list containing the anode and cathode of the bipolar channel\n",
    "(e.g. the electrodes above and below the eye for the `eye_vertical` channel).\n",
    "If you use a reference channel other than the average of `PO9` and `FT9`, you can also\n",
    "ise the `ref_ch` argument (not used here) to provide the channels to use as reference as a list.\n",
    "\n",
    "\n",
    "\n",
    "\n",
    "\n",
    "\n",
    "\n",
    "\n",
    "\n",
    "\n",
    "\n",
    "\n",
    "\n"
   ],
   "metadata": {
    "collapsed": false,
    "pycharm": {
     "name": "#%% md\n"
    }
   }
  }
 ],
 "metadata": {
  "kernelspec": {
   "display_name": "Python 3",
   "language": "python",
   "name": "python3"
  },
  "language_info": {
   "codemirror_mode": {
    "name": "ipython",
    "version": 2
   },
   "file_extension": ".py",
   "mimetype": "text/x-python",
   "name": "python",
   "nbconvert_exporter": "python",
   "pygments_lexer": "ipython2",
   "version": "2.7.6"
  }
 },
 "nbformat": 4,
 "nbformat_minor": 0
}