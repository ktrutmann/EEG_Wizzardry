{
 "cells": [
  {
   "cell_type": "markdown",
   "source": [
    "# Finding the LRP signal with mne_pipeline\n",
    "\n",
    "The `mne_pipeline` class contains a collection of helper and wrapper methods\n",
    "for functions for the `mne` module.\n",
    "Here we will take a look at how you would go about finding the\n",
    "[lateralized readiness potential (LRP)](https://en.wikipedia.org/wiki/Lateralized_readiness_potential)\n",
    "signal using the `mne_pipeline` class.\n",
    "\n",
    "The data we will be using stems from an experiment where a participant had to choose\n",
    "between two options of dividing money up between themselves and another anonymous\n",
    "participant (i.e. a forced-choice version of the\n",
    "[dictator game](https://en.wikipedia.org/wiki/Dictator_game)) by pressing a button\n",
    "with their left index finger for the left option and with their right index finger\n",
    "for the right option.\n",
    "We therefore expect to see an LRP build up before either of the buttons is pressed.\n",
    "\n",
    "\n",
    "## Importing and Preparing the Data\n",
    "\n",
    "First we will have to import the modules we need.\n",
    "Make sure `mne_pipeline.py` is within the same directory of the script or\n",
    "otherwise provide the relative path during the import."
   ],
   "metadata": {
    "collapsed": false,
    "pycharm": {
     "name": "#%% md\n"
    }
   }
  },
  {
   "cell_type": "code",
   "execution_count": 3,
   "metadata": {
    "collapsed": true
   },
   "outputs": [],
   "source": [
    "# TODO: Check which imports are really needed\n",
    "import os\n",
    "import mne\n",
    "import pandas as pd\n",
    "import numpy as np\n",
    "import mne_pipeline"
   ]
  },
  {
   "cell_type": "markdown",
   "source": [
    "We now _import the data_ of a participant.\n",
    "In a proper analysis script this might be done in a loop over all participants so that you can\n",
    "deal with them one by one."
   ],
   "metadata": {
    "collapsed": false,
    "pycharm": {
     "name": "#%% md\n"
    }
   }
  },
  {
   "cell_type": "code",
   "source": [
    "triggers = {'Masked': 2, 'Reveal': 4, 'Left_choice': 8, 'Right_choice': 16, 'No_choice': 32}\n",
    "\n",
    "eeg_prep = mne_pipeline.EEGPrep(\n",
    "    eeg_path=os.path.join('Data', 'raw', 'kevin_raw.fif'),\n",
    "    trigger_dict=triggers,\n",
    "    participant_identifier='test_participant')"
   ],
   "metadata": {
    "collapsed": false,
    "pycharm": {
     "name": "#%%\n"
    }
   },
   "execution_count": null,
   "outputs": []
  },
  {
   "cell_type": "markdown",
   "source": [
    "As you can see, the object `eeg_prep` is an instance of the EEGPrep class.\n",
    "To initialize it we give it the path to our EEG file (which can be either in .bdf or .fif format),\n",
    "the trigger dictionary and an identifier for the participant (which can also be a number).\n",
    "The trigger dictionary contains the labels of the triggers as keys and the corresponding\n",
    "value of the trigger channel as values. In this case `'masked'` means that at that time\n",
    "the stimulus was presented but the numbers were not visible yet.\n",
    "At this time the trigger channel (called `Status` or `Stim`) takes on the value of 2.\n",
    "\n",
    "Now we have our `eeg_prep` object which has a bunch of attributes\n",
    "(for example the raw data itself or the `participant_id` we just gave it) and methods.\n",
    "The methods can either have a return value so that it will be used as\n",
    "`new_value = eeg_prep.some_method()` or it can operate on the attributes within the object\n",
    " (again, for example the raw data) directly.\n",
    "\n",
    " The next two methods we are going to apply do exactly that.\n",
    " The `fix_channels` method removes the superfluous `1-` at the start of the channel names\n",
    " and _sets the montage_, which is what tells `mne` where on the head each electrode was attached.\n",
    " Then `set_references` automatically _rereferences your signal_ to the average of the\n",
    " mastoid reference electrodes (the ones behind the ear) and creates new channels\n",
    " from the bipolar electrodes like ones capturing eye and hand movement."
   ],
   "metadata": {
    "collapsed": false,
    "pycharm": {
     "name": "#%% md\n"
    }
   }
  },
  {
   "cell_type": "code",
   "execution_count": null,
   "outputs": [],
   "source": [
    "eeg_prep.fix_channels(n_ext_channels=9,\n",
    "                      ext_ch_mapping=None)\n",
    "\n",
    "eeg_prep.set_references(bipolar_dict=dict(eye_horizontal=['PO10', 'FT10'],\n",
    "                                          eye_vertical=['HeRe', 'FT10'],\n",
    "                                          right_hand=['HeLi', 'VeDo'],\n",
    "                                          left_hand=['VeUp', 'EMG1a']))"
   ],
   "metadata": {
    "collapsed": false,
    "pycharm": {
     "name": "#%%\n"
    }
   }
  },
  {
   "cell_type": "markdown",
   "source": [
    "As you can see, `fix_channels` also gives you the option to set the number of extra channels\n",
    "(i.e. everything that is not included in the 64 electrode setup) and lets you provide your own\n",
    "type mapping for those extra channels if desired (see the documentation in the code for details).\n",
    "\n",
    "`set_references` takes a dictionary for the bipolar electrodes called `bipolar_dict`.\n",
    "Here the dictionary keys will be used as the channel names for the newly generated channels and the\n",
    "dictionary values should be a list containing the anode and cathode of the bipolar channel\n",
    "(e.g. the electrodes above and below the eye for the `eye_vertical` channel).\n",
    "If you use a reference channel other than the average of `PO9` and `FT9`, you can also\n",
    "use the `ref_ch` argument (not used here) to provide the channels to use as reference as a list.\n",
    "\n",
    "Now that MNE and python know how to handle our data we want to _retrieve the events_ we recorded during our study.\n",
    "Our `eeg_prep` object already contains the `triggers` dictionary we provided when we created it.\n",
    "The method `find_events` is basically a wrapper for `mne.find_events` and saves its result in an attribute called\n",
    "`events`.\n",
    "All arguments are passed on to `mne.find_events` so if you are struggeling you can read\n",
    "[its documentation](https://mne.tools/stable/generated/mne.find_events.html)."
   ],
   "metadata": {
    "collapsed": false,
    "pycharm": {
     "name": "#%% md\n"
    }
   }
  },
  {
   "cell_type": "code",
   "execution_count": null,
   "outputs": [],
   "source": [
    "eeg_prep.find_events(stim_channel='Status', consecutive=True, min_duration=.01)"
   ],
   "metadata": {
    "collapsed": false,
    "pycharm": {
     "name": "#%%\n"
    }
   }
  },
  {
   "cell_type": "markdown",
   "source": [
    "What we need here is to tell the method which channel contains the trigger information with the `stim_channel`\n",
    "argument. Set `consecutive` to `True` if your trigger channel does not return to zero after each trigger.\n",
    "`min_duration` tells MNE that any fluctuation in the signal smaller than that value in seconds is just noise and\n",
    "should not be considered a trigger signal.\n",
    "\n",
    "__Hint:__ _If you are programming an experiment, make sure to either always set the trigger channel back to zero\n",
    "after each event or make sure that the same trigger values are never used twice in a row.\n",
    "Setting the channel to 8 for example and then setting it to 8 again for the second event will just produce a flat line\n",
    "from which the timing of the second event cannot be recovered._\n",
    "\n",
    "\n",
    "## Cleaning the Data"
   ],
   "metadata": {
    "collapsed": false,
    "pycharm": {
     "name": "#%% md\n"
    }
   }
  },
  {
   "cell_type": "code",
   "execution_count": null,
   "outputs": [],
   "source": [
    "eeg_prep.find_ica_components()\n",
    "eeg_prep.remove_ica_components()"
   ],
   "metadata": {
    "collapsed": false,
    "pycharm": {
     "name": "#%%\n"
    }
   }
  },
  {
   "cell_type": "markdown",
   "source": [
    "Here we start by applying an independent component analysis (ICA) to filter out eye- and other movement artifacts.\n",
    "Running the `find_ica_components` method will fit the ICA on your data.\n",
    "If you know that you have very noisy data between trials i.e. from people moving a lot, you can first create\n",
    "epochs (see below) and then in `find_ica_components` set `fit_on_epochs=False`.\n",
    "That way only the data within the epochs will be considered.\n",
    "Further, if you know of bad episodes (e.g. a yawn), you can annotate the segment as 'bad' and it will be excluded\n",
    "from the fitting procedure. Please consult the\n",
    "[MNE documentation](https://mne.tools/stable/overview/index.html#documentation-overview) on how to do this.\n",
    "You can always modify the `mne.raw` object as `eeg_prep.raw`.\n",
    "\n",
    "Further options are `high_pass_freq` which applied a high-pass filter (i.e. filtering out low frequency noise)\n",
    "before fitting the ICA, `decim` which speeds up the process by only using every `decim`th sample,\n",
    "and `n_components` which is set to 20 by default and decides how many ICA components are extracted.\n",
    "All other arguments are passed on to the `mne.ICA` method.\n",
    "\n",
    "`find_ica_components` will show you a plot with the components it fit.\n",
    "When excluding components you have different options to do so.\n",
    "Should you wish to decide manually which components to exclude, make sure to create a file called\n",
    "`participant_PARTICIPANTID_rejected_ICA_components.csv` and list the rejected components (one component per line)\n",
    "in it. If you have mistakenly closed the plot just run `find_ica_components` again.\n",
    "If you have changed nothing in the arguments it will not re-fit the ICA but show you the plot again.\n",
    "\n",
    "After fitting the ICA we are able to actually remove the components we selected.\n",
    "This is done by running `remove_ica_components`. If you have created a list of components you want to reject as\n",
    "described above, you can set `reject_from_file=True`. In any case you should provide the path to the folder where\n",
    "you either already store or want to store the files with the rejection lists with `reject_list_file_location`.\n",
    "If you provide a path to a folder that does not exist yet, it will be created.\n",
    "Any further arguments are passed on to `mne.ica.apply`.\n",
    "\n",
    "If you did not set `reject_from_file=True` MNE's `find_bads_eog` method will be used to decide which components\n",
    "to reject. The resulting list of components will then be written into the `[...]_rejected_ICA_components.csv` file.\n",
    "Further, if bad components are detected, and informative plot will be drawn showing the eog scores of the components.\n",
    "\n",
    "Next, we will apply a filter to our signal."
   ],
   "metadata": {
    "collapsed": false,
    "pycharm": {
     "name": "#%% md\n"
    }
   }
  },
  {
   "cell_type": "code",
   "execution_count": null,
   "outputs": [],
   "source": [
    "eeg_prep.filters(low_freq=1/7, high_freq=128, notch_freq=50)"
   ],
   "metadata": {
    "collapsed": false,
    "pycharm": {
     "name": "#%%\n"
    }
   }
  },
  {
   "cell_type": "markdown",
   "source": [
    "As you might imagine, this filters out frequencies below `low_freq` and above `high_freq`.\n",
    "Further a notch filter is applied to `notch_freq` and its harmonies up to `high_freq` to get rid of electrical wire\n",
    "noise.\n",
    "\n",
    "\n",
    "## Creating Epochs and Saving\n",
    "\n",
    "Next, we will create epochs from our raw data. This again is relatively straight forward.\n",
    "You can either get the epochs as an attribute of the `eeg_prep` object or you can get it as a pandas data frame\n",
    "so you can apply other methods outside of MNE to it."
   ],
   "metadata": {
    "collapsed": false,
    "pycharm": {
     "name": "#%% md\n"
    }
   }
  },
  {
   "cell_type": "code",
   "execution_count": null,
   "outputs": [],
   "source": [
    "eeg_prep.get_epochs(event_labels=['Left_choice', 'Right_choice'],\n",
    "                    tmin=-1.5, tmax=.2, baseline=(-1.5, -1.2))\n",
    "data_frame = eeg_prep.get_epochs_df(event_labels=['Left_choice', 'Right_choice'],\n",
    "                                    tmin=-1.5, tmax=.2, baseline=(-1.5, -1.2))"
   ],
   "metadata": {
    "collapsed": false,
    "pycharm": {
     "name": "#%%\n"
    }
   }
  },
  {
   "cell_type": "markdown",
   "source": [
    "The `event_labels` are from the `trigger_dict` you provided at the start and contains all events around which you\n",
    "want to build your epochs.\n",
    "The arguments `tmin`, `tmax`, and `baseline` are passed on to `mne.Epochs`.\n",
    "The first two describe how many seconds before and after the event the epoch should start and stop.\n",
    "`baseline` should provide a time interval whose average voltage will be subtracted from the epoch so that slow\n",
    "fluctuations don't increase the variance between epochs.\n",
    "\n",
    "If you now want to save your prepared data to work with it later, you can do so with the `save_prepared_data` method."
   ],
   "metadata": {
    "collapsed": false,
    "pycharm": {
     "name": "#%% md\n"
    }
   }
  },
  {
   "cell_type": "code",
   "execution_count": null,
   "outputs": [],
   "source": [
    "eeg_prep.save_prepared_data(save_path='prepared_data', overwrite=True)"
   ],
   "metadata": {
    "collapsed": false,
    "pycharm": {
     "name": "#%%\n"
    }
   }
  },
  {
   "cell_type": "markdown",
   "source": [
    "This will create a new `.fif` file in the location you provided in `save_path`.\n",
    "If you wish you could also set `save_events=True` and `save_epochs=True`.\n",
    "Events will be saved using pythons `pickle` library and epochs are also used as `.fif` files.\n",
    "Overwrite as well as any other named arguments are passed on to `raw.save`."
   ],
   "metadata": {
    "collapsed": false,
    "pycharm": {
     "name": "#%% md\n"
    }
   }
  }
 ],
 "metadata": {
  "kernelspec": {
   "display_name": "Python 3",
   "language": "python",
   "name": "python3"
  },
  "language_info": {
   "codemirror_mode": {
    "name": "ipython",
    "version": 2
   },
   "file_extension": ".py",
   "mimetype": "text/x-python",
   "name": "python",
   "nbconvert_exporter": "python",
   "pygments_lexer": "ipython2",
   "version": "2.7.6"
  }
 },
 "nbformat": 4,
 "nbformat_minor": 0
}